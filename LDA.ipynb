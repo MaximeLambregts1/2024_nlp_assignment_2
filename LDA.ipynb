{
 "cells": [
  {
   "cell_type": "code",
   "execution_count": 63,
   "metadata": {
    "pycharm": {
     "name": "#%%\n"
    }
   },
   "outputs": [],
   "source": [
    "# import modules\n",
    "import pandas as pd\n",
    "import gensim\n",
    "from ast import literal_eval\n",
    "\n",
    "# import data\n",
    "df = pd.read_csv('data/nvidia_articles.csv', converters={'content': literal_eval,\n",
    "                                                         'stemmed_content': literal_eval,\n",
    "                                                         'lemmatized_content': literal_eval})"
   ]
  },
  {
   "cell_type": "code",
   "execution_count": 31,
   "metadata": {},
   "outputs": [],
   "source": [
    "col = 'lemmatized_content'"
   ]
  },
  {
   "cell_type": "code",
   "execution_count": 64,
   "metadata": {},
   "outputs": [
    {
     "data": {
      "text/plain": [
       "['nvidia', 'market', 'stock', 'nvda', 'nasdaq', 'share', 'company', 'year']"
      ]
     },
     "execution_count": 64,
     "metadata": {},
     "output_type": "execute_result"
    }
   ],
   "source": [
    "# get all unique words in corpus\n",
    "all_content = list(df[col])\n",
    "all_words = [item for row in all_content for item in row] # flatten list\n",
    "unique_words = set(all_words)\n",
    "\n",
    "# find corpus stopwords that appear in more than specified percentage of articles\n",
    "threshold = 0.70\n",
    "\n",
    "set_content = df[col].apply(set)\n",
    "n_articles = len(df)\n",
    "corpus_stopwords = []\n",
    "for word in unique_words:\n",
    "    perc_articles = set_content.apply(lambda x: word in x).sum() / n_articles\n",
    "    if perc_articles > threshold:\n",
    "        corpus_stopwords.append(word)\n",
    "\n",
    "corpus_stopwords"
   ]
  },
  {
   "cell_type": "code",
   "execution_count": 65,
   "metadata": {},
   "outputs": [],
   "source": [
    "# remove corpus stopwords\n",
    "df[col] = df[col].apply(lambda x: [word for word in x if word not in corpus_stopwords])"
   ]
  },
  {
   "cell_type": "code",
   "execution_count": 66,
   "metadata": {
    "pycharm": {
     "name": "#%%\n"
    }
   },
   "outputs": [],
   "source": [
    "# map words to integer ids\n",
    "id2word = gensim.corpora.Dictionary(df[col])\n",
    "\n",
    "# create a bag of words representation of the data\n",
    "bow = [id2word.doc2bow(doc) for doc in df[col]]\n",
    "\n",
    "# number of topics\n",
    "n_topics = 10\n",
    "\n",
    "# Build LDA model\n",
    "lda_model = gensim.models.LdaMulticore(corpus=bow, id2word=id2word, num_topics=n_topics)"
   ]
  },
  {
   "cell_type": "code",
   "execution_count": 67,
   "metadata": {},
   "outputs": [
    {
     "name": "stdout",
     "output_type": "stream",
     "text": [
      "Topic: 0 \n",
      "Words: 0.009*\"zacks\" + 0.008*\"quarter\" + 0.008*\"revenue\" + 0.007*\"billion\" + 0.006*\"earnings\" + 0.006*\"u\" + 0.005*\"estimate\" + 0.005*\"growth\" + 0.005*\"technology\" + 0.005*\"nyse\"\n",
      "Topic: 1 \n",
      "Words: 0.007*\"zacks\" + 0.007*\"quarter\" + 0.006*\"earnings\" + 0.006*\"growth\" + 0.006*\"revenue\" + 0.006*\"technology\" + 0.005*\"billion\" + 0.005*\"nyse\" + 0.004*\"u\" + 0.004*\"new\"\n",
      "Topic: 2 \n",
      "Words: 0.009*\"earnings\" + 0.007*\"zacks\" + 0.007*\"nyse\" + 0.007*\"inc\" + 0.005*\"u\" + 0.004*\"quarter\" + 0.004*\"new\" + 0.004*\"revenue\" + 0.004*\"growth\" + 0.004*\"time\"\n",
      "Topic: 3 \n",
      "Words: 0.007*\"earnings\" + 0.006*\"zacks\" + 0.006*\"quarter\" + 0.006*\"u\" + 0.005*\"growth\" + 0.005*\"investor\" + 0.005*\"revenue\" + 0.004*\"nyse\" + 0.004*\"billion\" + 0.004*\"also\"\n",
      "Topic: 4 \n",
      "Words: 0.012*\"zacks\" + 0.011*\"quarter\" + 0.008*\"earnings\" + 0.007*\"also\" + 0.006*\"revenue\" + 0.005*\"growth\" + 0.005*\"expected\" + 0.005*\"rank\" + 0.005*\"estimate\" + 0.004*\"u\"\n",
      "Topic: 5 \n",
      "Words: 0.006*\"nyse\" + 0.005*\"u\" + 0.005*\"also\" + 0.005*\"inc\" + 0.005*\"trade\" + 0.004*\"revenue\" + 0.004*\"growth\" + 0.004*\"zacks\" + 0.004*\"week\" + 0.004*\"index\"\n",
      "Topic: 6 \n",
      "Words: 0.012*\"earnings\" + 0.010*\"zacks\" + 0.008*\"quarter\" + 0.008*\"growth\" + 0.007*\"revenue\" + 0.006*\"million\" + 0.006*\"estimate\" + 0.005*\"billion\" + 0.005*\"also\" + 0.005*\"technology\"\n",
      "Topic: 7 \n",
      "Words: 0.012*\"zacks\" + 0.007*\"earnings\" + 0.005*\"u\" + 0.005*\"growth\" + 0.005*\"rank\" + 0.005*\"estimate\" + 0.005*\"billion\" + 0.005*\"quarter\" + 0.005*\"also\" + 0.005*\"last\"\n",
      "Topic: 8 \n",
      "Words: 0.011*\"zacks\" + 0.008*\"growth\" + 0.007*\"earnings\" + 0.006*\"u\" + 0.005*\"billion\" + 0.004*\"quarter\" + 0.004*\"technology\" + 0.004*\"last\" + 0.004*\"data\" + 0.004*\"investor\"\n",
      "Topic: 9 \n",
      "Words: 0.007*\"day\" + 0.007*\"nyse\" + 0.006*\"traded\" + 0.006*\"trade\" + 0.005*\"also\" + 0.004*\"zacks\" + 0.004*\"u\" + 0.004*\"inc\" + 0.004*\"earnings\" + 0.004*\"new\"\n"
     ]
    }
   ],
   "source": [
    "# print topics\n",
    "for idx, topic in lda_model.print_topics(-1):\n",
    "    print('Topic: {} \\nWords: {}'.format(idx, topic))\n"
   ]
  },
  {
   "cell_type": "code",
   "execution_count": 68,
   "metadata": {},
   "outputs": [
    {
     "name": "stdout",
     "output_type": "stream",
     "text": [
      "Coherence Score:  0.33388919762691766\n"
     ]
    }
   ],
   "source": [
    "# coherence score\n",
    "coherence_model_lda = gensim.models.CoherenceModel(model=lda_model, texts=df['lemmatized_content'], dictionary=id2word, coherence='c_v')\n",
    "coherence_lda = coherence_model_lda.get_coherence()\n",
    "print('Coherence Score: ', coherence_lda)"
   ]
  },
  {
   "cell_type": "code",
   "execution_count": 43,
   "metadata": {
    "pycharm": {
     "name": "#%%\n"
    }
   },
   "outputs": [],
   "source": [
    "# requires installing pyldavis\n",
    "# requires pandas version to 1.5.1\n",
    "\n",
    "import pyLDAvis\n",
    "\n",
    "LDAvis_prepared = pyLDAvis.gensim.prepare(lda_model, bow, id2word)\n",
    "pyLDAvis.save_html(LDAvis_prepared, './LDA_results/ldavis_prepared_'+ str(n_topics) +'.html')"
   ]
  }
 ],
 "metadata": {
  "kernelspec": {
   "display_name": "base",
   "language": "python",
   "name": "python3"
  },
  "language_info": {
   "codemirror_mode": {
    "name": "ipython",
    "version": 3
   },
   "file_extension": ".py",
   "mimetype": "text/x-python",
   "name": "python",
   "nbconvert_exporter": "python",
   "pygments_lexer": "ipython3",
   "version": "3.11.4"
  }
 },
 "nbformat": 4,
 "nbformat_minor": 2
}
