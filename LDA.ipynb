{
 "cells": [
  {
   "cell_type": "code",
   "execution_count": 1,
   "metadata": {
    "pycharm": {
     "name": "#%%\n"
    }
   },
   "outputs": [],
   "source": [
    "# import modules\n",
    "import pandas as pd\n",
    "from functions import LDA\n",
    "from ast import literal_eval\n",
    "\n",
    "# import data\n",
    "df = pd.read_csv('data/nvidia_articles.csv', converters={'content': literal_eval,\n",
    "                                                         'stemmed_content': literal_eval,\n",
    "                                                         'lemmatized_content': literal_eval})"
   ]
  },
  {
   "cell_type": "markdown",
   "metadata": {},
   "source": [
    "### Iteration 1"
   ]
  },
  {
   "cell_type": "code",
   "execution_count": null,
   "metadata": {},
   "outputs": [
    {
     "name": "stdout",
     "output_type": "stream",
     "text": [
      "Coherence Score: 0.361\n",
      "Topic Variability: 0.150\n"
     ]
    }
   ],
   "source": [
    "# train model\n",
    "lda = LDA(docs=df['content'], n_topics=10, use_tfidf=False)\n",
    "lda.train_model()\n",
    "\n",
    "# get metrics\n",
    "coherence = lda.coherence_score() # get coherence score\n",
    "topic_variability = lda.topic_variability() # get topic variability\n",
    "\n",
    "print(f'Coherence Score: {coherence:.3f}')\n",
    "print(f'Topic Variability: {topic_variability:.3f}')"
   ]
  },
  {
   "cell_type": "code",
   "execution_count": 3,
   "metadata": {},
   "outputs": [
    {
     "name": "stdout",
     "output_type": "stream",
     "text": [
      "Topic: 0 - Words: 0.011*\"company\" + 0.010*\"nasdaq\" + 0.009*\"nvidia\" + 0.009*\"year\" + 0.008*\"zacks\" + 0.008*\"earnings\" + 0.008*\"quarter\" + 0.007*\"growth\" + 0.006*\"market\" + 0.006*\"stocks\"\n",
      "Topic: 1 - Words: 0.014*\"nasdaq\" + 0.010*\"year\" + 0.008*\"nyse\" + 0.007*\"stocks\" + 0.007*\"company\" + 0.007*\"zacks\" + 0.006*\"inc\" + 0.006*\"earnings\" + 0.006*\"stock\" + 0.005*\"market\"\n",
      "Topic: 2 - Words: 0.012*\"nasdaq\" + 0.010*\"company\" + 0.010*\"zacks\" + 0.008*\"year\" + 0.006*\"stocks\" + 0.005*\"earnings\" + 0.005*\"market\" + 0.005*\"nvidia\" + 0.005*\"also\" + 0.004*\"growth\"\n",
      "Topic: 3 - Words: 0.011*\"year\" + 0.011*\"nasdaq\" + 0.007*\"zacks\" + 0.006*\"stock\" + 0.006*\"nvidia\" + 0.006*\"company\" + 0.005*\"earnings\" + 0.005*\"quarter\" + 0.005*\"growth\" + 0.005*\"stocks\"\n",
      "Topic: 4 - Words: 0.013*\"zacks\" + 0.012*\"year\" + 0.009*\"company\" + 0.009*\"earnings\" + 0.008*\"nasdaq\" + 0.007*\"market\" + 0.007*\"nvidia\" + 0.007*\"quarter\" + 0.006*\"billion\" + 0.006*\"stocks\"\n",
      "Topic: 5 - Words: 0.010*\"year\" + 0.009*\"zacks\" + 0.008*\"earnings\" + 0.008*\"nasdaq\" + 0.008*\"company\" + 0.007*\"market\" + 0.006*\"quarter\" + 0.005*\"growth\" + 0.005*\"stocks\" + 0.005*\"nvidia\"\n",
      "Topic: 6 - Words: 0.010*\"year\" + 0.010*\"company\" + 0.009*\"nasdaq\" + 0.009*\"zacks\" + 0.009*\"growth\" + 0.008*\"earnings\" + 0.008*\"quarter\" + 0.007*\"stocks\" + 0.007*\"market\" + 0.006*\"nvidia\"\n",
      "Topic: 7 - Words: 0.011*\"nasdaq\" + 0.008*\"company\" + 0.008*\"year\" + 0.008*\"zacks\" + 0.008*\"nvidia\" + 0.008*\"earnings\" + 0.007*\"stocks\" + 0.006*\"stock\" + 0.005*\"quarter\" + 0.005*\"market\"\n",
      "Topic: 8 - Words: 0.010*\"nasdaq\" + 0.008*\"nvidia\" + 0.008*\"market\" + 0.007*\"year\" + 0.006*\"nyse\" + 0.005*\"earnings\" + 0.005*\"stock\" + 0.005*\"company\" + 0.005*\"growth\" + 0.004*\"zacks\"\n",
      "Topic: 9 - Words: 0.011*\"year\" + 0.007*\"company\" + 0.007*\"nasdaq\" + 0.005*\"earnings\" + 0.005*\"zacks\" + 0.005*\"market\" + 0.005*\"stocks\" + 0.005*\"growth\" + 0.004*\"also\" + 0.004*\"nvidia\"\n"
     ]
    }
   ],
   "source": [
    "lda.print_topics()"
   ]
  },
  {
   "cell_type": "markdown",
   "metadata": {},
   "source": [
    "### Iteration 2"
   ]
  },
  {
   "cell_type": "code",
   "execution_count": 45,
   "metadata": {},
   "outputs": [
    {
     "name": "stdout",
     "output_type": "stream",
     "text": [
      "Filtering 16914 words...\n"
     ]
    },
    {
     "name": "stderr",
     "output_type": "stream",
     "text": [
      "c:\\Users\\sjoer\\anaconda3\\Lib\\site-packages\\sklearn\\feature_extraction\\text.py:525: UserWarning: The parameter 'token_pattern' will not be used since 'tokenizer' is not None'\n",
      "  warnings.warn(\n"
     ]
    },
    {
     "name": "stdout",
     "output_type": "stream",
     "text": [
      "Coherence Score: 0.691\n",
      "Topic Variability: 0.140\n"
     ]
    }
   ],
   "source": [
    "# train model\n",
    "lda = LDA(docs=df['stemmed_content'], n_min=8, p_max=None, n_topics=10, use_tfidf=True)\n",
    "lda.train_model()\n",
    "\n",
    "# get metrics\n",
    "coherence = lda.coherence_score() # get coherence score\n",
    "topic_variability = lda.topic_variability() # get topic variability\n",
    "\n",
    "print(f'Coherence Score: {coherence:.3f}')\n",
    "print(f'Topic Variability: {topic_variability:.3f}')\n",
    "\n",
    "# get document vectors\n",
    "df['doc_vectors'] = lda.model.get_document_topics(lda.docs_matrix)"
   ]
  },
  {
   "cell_type": "code",
   "execution_count": 46,
   "metadata": {},
   "outputs": [
    {
     "name": "stdout",
     "output_type": "stream",
     "text": [
      "Topic: 0 - Words: 0.005*\"mini\" + 0.005*\"baird\" + 0.005*\"mb\" + 0.004*\"thermostat\" + 0.004*\"struggl\" + 0.004*\"audit\" + 0.004*\"thesi\" + 0.004*\"understood\" + 0.003*\"foxa\" + 0.003*\"encount\"\n",
      "Topic: 1 - Words: 0.005*\"audit\" + 0.005*\"mb\" + 0.005*\"thermostat\" + 0.005*\"mini\" + 0.005*\"struggl\" + 0.004*\"baird\" + 0.004*\"thesi\" + 0.004*\"understood\" + 0.004*\"benign\" + 0.004*\"encount\"\n",
      "Topic: 2 - Words: 0.005*\"mini\" + 0.005*\"audit\" + 0.004*\"baird\" + 0.004*\"struggl\" + 0.004*\"mb\" + 0.004*\"thermostat\" + 0.004*\"benign\" + 0.003*\"encount\" + 0.003*\"foxa\" + 0.003*\"geforc\"\n",
      "Topic: 3 - Words: 0.005*\"mini\" + 0.005*\"mb\" + 0.005*\"baird\" + 0.004*\"thermostat\" + 0.004*\"struggl\" + 0.003*\"understood\" + 0.003*\"foxa\" + 0.003*\"encount\" + 0.003*\"mpc\" + 0.003*\"thesi\"\n",
      "Topic: 4 - Words: 0.005*\"thermostat\" + 0.005*\"baird\" + 0.004*\"struggl\" + 0.004*\"mini\" + 0.004*\"mb\" + 0.004*\"thesi\" + 0.004*\"understood\" + 0.003*\"foxa\" + 0.003*\"encount\" + 0.003*\"bump\"\n",
      "Topic: 5 - Words: 0.004*\"thermostat\" + 0.004*\"mini\" + 0.004*\"baird\" + 0.004*\"struggl\" + 0.004*\"mb\" + 0.004*\"benign\" + 0.004*\"thesi\" + 0.003*\"audit\" + 0.003*\"foxa\" + 0.003*\"understood\"\n",
      "Topic: 6 - Words: 0.005*\"mini\" + 0.005*\"baird\" + 0.004*\"struggl\" + 0.004*\"audit\" + 0.004*\"mb\" + 0.004*\"thermostat\" + 0.003*\"benign\" + 0.003*\"thesi\" + 0.003*\"foxa\" + 0.003*\"understood\"\n",
      "Topic: 7 - Words: 0.005*\"baird\" + 0.004*\"mb\" + 0.004*\"mini\" + 0.004*\"thermostat\" + 0.004*\"struggl\" + 0.003*\"thesi\" + 0.003*\"foxa\" + 0.003*\"understood\" + 0.003*\"audit\" + 0.003*\"benign\"\n",
      "Topic: 8 - Words: 0.005*\"audit\" + 0.005*\"baird\" + 0.005*\"mini\" + 0.005*\"thermostat\" + 0.004*\"struggl\" + 0.004*\"mb\" + 0.004*\"benign\" + 0.003*\"geforc\" + 0.003*\"thesi\" + 0.003*\"encount\"\n",
      "Topic: 9 - Words: 0.005*\"mini\" + 0.005*\"baird\" + 0.004*\"audit\" + 0.004*\"mb\" + 0.004*\"thermostat\" + 0.004*\"struggl\" + 0.004*\"thesi\" + 0.004*\"understood\" + 0.003*\"benign\" + 0.003*\"mpc\"\n"
     ]
    }
   ],
   "source": [
    "lda.print_topics() # print topics"
   ]
  },
  {
   "cell_type": "code",
   "execution_count": null,
   "metadata": {},
   "outputs": [],
   "source": [
    "results = []\n",
    "for n_topics in [5, 10, 15, 20]:\n",
    "    for threshold in [0.50, 0.65, 0.80]:\n",
    "        lda = LDA(df['lemmatized_content'], threshold, n_topics)\n",
    "        lda.train_model()\n",
    "        coherence = lda.coherence_score() # get coherence score\n",
    "        topic_variability = lda.topic_variability() # get topic variability\n",
    "        results.append({'n_topics': n_topics,\n",
    "                        'threshold': threshold,\n",
    "                        'coherence': coherence,\n",
    "                        'topic_variability': topic_variability})\n",
    "        \n",
    "df_results = pd.DataFrame(results)"
   ]
  },
  {
   "cell_type": "code",
   "execution_count": 13,
   "metadata": {},
   "outputs": [
    {
     "data": {
      "text/html": [
       "<div>\n",
       "<style scoped>\n",
       "    .dataframe tbody tr th:only-of-type {\n",
       "        vertical-align: middle;\n",
       "    }\n",
       "\n",
       "    .dataframe tbody tr th {\n",
       "        vertical-align: top;\n",
       "    }\n",
       "\n",
       "    .dataframe thead th {\n",
       "        text-align: right;\n",
       "    }\n",
       "</style>\n",
       "<table border=\"1\" class=\"dataframe\">\n",
       "  <thead>\n",
       "    <tr style=\"text-align: right;\">\n",
       "      <th></th>\n",
       "      <th>n_topics</th>\n",
       "      <th>threshold</th>\n",
       "      <th>coherence</th>\n",
       "      <th>topic_variability</th>\n",
       "    </tr>\n",
       "  </thead>\n",
       "  <tbody>\n",
       "    <tr>\n",
       "      <th>0</th>\n",
       "      <td>5</td>\n",
       "      <td>0.50</td>\n",
       "      <td>0.285792</td>\n",
       "      <td>0.420000</td>\n",
       "    </tr>\n",
       "    <tr>\n",
       "      <th>1</th>\n",
       "      <td>5</td>\n",
       "      <td>0.65</td>\n",
       "      <td>0.371213</td>\n",
       "      <td>0.420000</td>\n",
       "    </tr>\n",
       "    <tr>\n",
       "      <th>2</th>\n",
       "      <td>5</td>\n",
       "      <td>0.80</td>\n",
       "      <td>0.374869</td>\n",
       "      <td>0.340000</td>\n",
       "    </tr>\n",
       "    <tr>\n",
       "      <th>3</th>\n",
       "      <td>10</td>\n",
       "      <td>0.50</td>\n",
       "      <td>0.297082</td>\n",
       "      <td>0.370000</td>\n",
       "    </tr>\n",
       "    <tr>\n",
       "      <th>4</th>\n",
       "      <td>10</td>\n",
       "      <td>0.65</td>\n",
       "      <td>0.351747</td>\n",
       "      <td>0.220000</td>\n",
       "    </tr>\n",
       "    <tr>\n",
       "      <th>5</th>\n",
       "      <td>10</td>\n",
       "      <td>0.80</td>\n",
       "      <td>0.372104</td>\n",
       "      <td>0.220000</td>\n",
       "    </tr>\n",
       "    <tr>\n",
       "      <th>6</th>\n",
       "      <td>15</td>\n",
       "      <td>0.50</td>\n",
       "      <td>0.308366</td>\n",
       "      <td>0.280000</td>\n",
       "    </tr>\n",
       "    <tr>\n",
       "      <th>7</th>\n",
       "      <td>15</td>\n",
       "      <td>0.65</td>\n",
       "      <td>0.355934</td>\n",
       "      <td>0.193333</td>\n",
       "    </tr>\n",
       "    <tr>\n",
       "      <th>8</th>\n",
       "      <td>15</td>\n",
       "      <td>0.80</td>\n",
       "      <td>0.375730</td>\n",
       "      <td>0.173333</td>\n",
       "    </tr>\n",
       "    <tr>\n",
       "      <th>9</th>\n",
       "      <td>20</td>\n",
       "      <td>0.50</td>\n",
       "      <td>0.299137</td>\n",
       "      <td>0.260000</td>\n",
       "    </tr>\n",
       "    <tr>\n",
       "      <th>10</th>\n",
       "      <td>20</td>\n",
       "      <td>0.65</td>\n",
       "      <td>0.369792</td>\n",
       "      <td>0.160000</td>\n",
       "    </tr>\n",
       "    <tr>\n",
       "      <th>11</th>\n",
       "      <td>20</td>\n",
       "      <td>0.80</td>\n",
       "      <td>0.379793</td>\n",
       "      <td>0.150000</td>\n",
       "    </tr>\n",
       "  </tbody>\n",
       "</table>\n",
       "</div>"
      ],
      "text/plain": [
       "    n_topics  threshold  coherence  topic_variability\n",
       "0          5       0.50   0.285792           0.420000\n",
       "1          5       0.65   0.371213           0.420000\n",
       "2          5       0.80   0.374869           0.340000\n",
       "3         10       0.50   0.297082           0.370000\n",
       "4         10       0.65   0.351747           0.220000\n",
       "5         10       0.80   0.372104           0.220000\n",
       "6         15       0.50   0.308366           0.280000\n",
       "7         15       0.65   0.355934           0.193333\n",
       "8         15       0.80   0.375730           0.173333\n",
       "9         20       0.50   0.299137           0.260000\n",
       "10        20       0.65   0.369792           0.160000\n",
       "11        20       0.80   0.379793           0.150000"
      ]
     },
     "execution_count": 13,
     "metadata": {},
     "output_type": "execute_result"
    }
   ],
   "source": [
    "df_results"
   ]
  },
  {
   "cell_type": "code",
   "execution_count": 4,
   "metadata": {},
   "outputs": [
    {
     "data": {
      "image/png": "[encoded data removed]",
      "text/plain": [
       "<Figure size 800x300 with 1 Axes>"
      ]
     },
     "metadata": {},
     "output_type": "display_data"
    }
   ],
   "source": [
    "import matplotlib.pyplot as plt\n",
    "\n",
    "# Get the topic distribution for each document\n",
    "topic_distribution = [dict(doc) for doc in lda.model.get_document_topics(lda.bow)]\n",
    "\n",
    "# Create a DataFrame to hold the topic distribution\n",
    "topic_df = pd.DataFrame(topic_distribution).fillna(0)\n",
    "\n",
    "# Sum the topic distribution across all documents to get the total count per topic\n",
    "topic_counts = topic_df.sum(axis=0)\n",
    "\n",
    "# Plot the topic counts\n",
    "plt.figure(figsize=(8, 3))\n",
    "topic_counts.plot(kind='bar')\n",
    "plt.xlabel('Topic')\n",
    "plt.ylabel('Count')\n",
    "plt.title('Topic Distribution Across Documents')\n",
    "plt.show()"
   ]
  },
  {
   "cell_type": "code",
   "execution_count": null,
   "metadata": {},
   "outputs": [],
   "source": [
    "# get representations\n",
    "id2word = gensim.corpora.Dictionary(df[col]) # dictionary of words and their ids\n",
    "bow = [id2word.doc2bow(doc) for doc in df[col]] # bag of words representation\n",
    "\n",
    "# get coherence scores\n",
    "coherence_scores = []\n",
    "for i in range(2,22,2):\n",
    "    n_topics = i\n",
    "    lda_model = gensim.models.LdaMulticore(corpus=bow, id2word=id2word, num_topics=n_topics)\n",
    "    coherence_model_lda = gensim.models.CoherenceModel(model=lda_model, texts=df[col], dictionary=id2word, coherence='c_v')\n",
    "    coherence_lda = coherence_model_lda.get_coherence()\n",
    "    coherence_scores.append(coherence_lda)"
   ]
  },
  {
   "cell_type": "code",
   "execution_count": 7,
   "metadata": {},
   "outputs": [
    {
     "data": {
      "text/plain": [
       "[<matplotlib.lines.Line2D at 0x1e7018d32d0>]"
      ]
     },
     "execution_count": 7,
     "metadata": {},
     "output_type": "execute_result"
    },
    {
     "data": {
      "image/png": "[encoded data removed]",
      "text/plain": [
       "<Figure size 640x480 with 1 Axes>"
      ]
     },
     "metadata": {},
     "output_type": "display_data"
    }
   ],
   "source": [
    "# plot coherence scores\n",
    "import matplotlib.pyplot as plt\n",
    "plt.plot(range(2,22,2), coherence_scores)\n"
   ]
  },
  {
   "cell_type": "code",
   "execution_count": 19,
   "metadata": {},
   "outputs": [
    {
     "name": "stdout",
     "output_type": "stream",
     "text": [
      "('Excitement is building up for the 2020 Summer Olympics in Tokyo as there is '\n",
      " 'more for tourists and locals to look forward to than just watching the world '\n",
      " 's best athletes excel in their game  Tokyo 2020 will not just be a sports '\n",
      " 'event but is set to amaze the world by showcasing the future of travel i e  '\n",
      " 'autonomous vehicles  The goal is to take advantage of the worldwide '\n",
      " 'attention to display innovative automotive industry technologies by Japan to '\n",
      " 'foster economic growth of the nation Driverless Cars on Tokyo Streets in '\n",
      " '2020Reportedly  the country will launch self driving vehicle services by '\n",
      " '2020  with around 100 autonomous vehicles roaming freely near the Olympics '\n",
      " 'venues  carrying up to 7 000 passengers in the week starting Jul 6  '\n",
      " 'Markedly  this will be Japan s biggest driverless vehicle trial to date  '\n",
      " 'exhibiting the country s strength in the nascent technology  The country  '\n",
      " 'which aims to put self driving cars on the market by 2025  will be running a '\n",
      " 'slew of tests on public roads in Tokyo till 2022  Japan s auto biggies like '\n",
      " 'Toyota Motor   NYSE TM   and Nissan Motor   OTC NSANY   along with local '\n",
      " 'parts manufacturers and startups will be participating in the event   While '\n",
      " 'Toyota has revealed its fleet of autonomous vehicles it plans to introduce '\n",
      " 'at Tokyo 2020  Nissan has not detailed its lineup  Both Toyota and Nissan '\n",
      " 'carry a Zacks Rank  3  Hold    You can see  Toyota s Olympics DreamToyota '\n",
      " 'intends to utilize its sponsorship of Tokyo 2020 to display its upgraded '\n",
      " 'technologies including zero emission transportation  robots  driverless '\n",
      " 'cars  accessible people mover  APM  Toyota will support Tokyo 2020 with APM '\n",
      " 'mobility vehicle set to run between venues for short distance trips  Japan s '\n",
      " 'biggest automaker will provide test drives of the Level 4 driverless cars  '\n",
      " 'with around 90  of its entire Olympic fleet electrified As part of its big '\n",
      " 'push toward robotaxis  Toyota will supply 20 of its e Palette electric '\n",
      " 'vehicles to serve the athletes  The vehicles will be controlled by a '\n",
      " 'specially designed automated driving system and will feature 3D mapping '\n",
      " 'technology along with an operation management system to offer automated '\n",
      " 'driving at SAE  society of automotive engineers  level 4  Notably  e Palette '\n",
      " 's specs and capabilities put it in the same ballpark as Waymo s current '\n",
      " 'fleet of driverless vehicles The automotive giant will also have a tiny '\n",
      " 'version of the e Palette  named Field Support Robot  to carry javelins  shot '\n",
      " 'puts and other items from throwing events  Apart from the javelin collecting '\n",
      " 'robot  Toyota s humanoid robot and a telepresence robot are also set for '\n",
      " 'Olympics debut  Another AI technology enabled  driverless vehicle  known as '\n",
      " 'Concept i  will travel alongside torch relay runners The Japanese auto giant '\n",
      " 'is working on  Chauffeur  software  which is focused on full autonomy  It is '\n",
      " 'also working on another system  Guardian   which is an advanced driver '\n",
      " 'assist system  similar to Tesla s   NASDAQ TSLA   Autopilot  Notably  last '\n",
      " 'year  the company inked a deal to invest  500 million in a self driving '\n",
      " 'project with Uber  NYSE UBER  on a fleet of autonomous Sienna minivans Japan '\n",
      " 'Aims to Step Up Autonomous Drive Push Despite being the leader in many '\n",
      " 'industrial fields  Japan s auto industry lags behind in the field of '\n",
      " 'autonomous driving compared with its U S  counterparts  Amid the lack of '\n",
      " 'sufficient regulatory and collaborative framework to develop self driving '\n",
      " 'infrastructure  Japan has failed to keep pace with the proactive involvement '\n",
      " 'of auto companies like Tesla  Daimler AG   OTC DDAIF    General Motors   '\n",
      " 'NYSE GM    Volkswagen  DE VOWG p  along with tech giants like Alphabet   '\n",
      " 'NASDAQ GOOGL    NVIDIA   NASDAQ NVDA    and Intel  NASDAQ INTC  among a few '\n",
      " 'others However  the market for driverless cars in Japan is set to grow '\n",
      " 'rapidly as rollouts shift into high gear next year  As the automotive '\n",
      " 'industry is a highly prioritized area for government and companies alike  '\n",
      " 'stakeholders are willingly embracing collaborations to develop next '\n",
      " 'generation vehicles  The development of proper regulations has gradually '\n",
      " 'started attracting worldwide technology providers who can test new '\n",
      " 'technologies without any concerns  Promoting the next generation '\n",
      " 'technologies will also prop up local jobs and help keep the country s '\n",
      " 'carmakers competitive overseas  Self driving vehicles are expected to become '\n",
      " 'immensely important in Japan in increasing traffic safety amid an aging '\n",
      " 'demography  Traffic accidents involving the elderly are on the rise in the '\n",
      " 'country and the implementation of next gen driverless cars will be a key '\n",
      " 'milestone  which would minimize road fatalities  The number of Advanced '\n",
      " 'Driver Assistance Systems  ADAS  units which are crucial for providing '\n",
      " 'safety and convivence to automated driving  has been on the rise  Japan s '\n",
      " 'emphasis on safety is expected to result in greater consumer acceptance of '\n",
      " 'driverless cars Final ThoughtsWe believe that the proper implementation of '\n",
      " 'government policies and adoption of technologies like artificial '\n",
      " 'intelligence  sensor fusion  V2X communication and Internet of Things among '\n",
      " 'others will aid Japan based carmakers to unleash the full potential of an '\n",
      " 'automated transportation system in the coming years  So  brace yourself as '\n",
      " 'the race to get driverless cars on the road will accelerate in the near '\n",
      " 'future Free  Zacks  Single Best Stock Set to Double Today you are invited to '\n",
      " 'download our latest Special Report that reveals 5 stocks with the most '\n",
      " 'potential to gain  100  or more in 2020  From those 5  Zacks Director of '\n",
      " 'Research  Sheraz Mian hand picks one to have the most explosive upside of '\n",
      " 'all This pioneering tech ticker had soared to all time highs and then '\n",
      " 'subsided to a price that is irresistible  Now a pending acquisition could '\n",
      " 'super charge the company s drive past competitors in the development of true '\n",
      " 'Artificial Intelligence  The earlier you get in to this stock  the greater '\n",
      " 'your potential gain ')\n"
     ]
    }
   ],
   "source": [
    "# pprint\n",
    "from pprint import pprint\n",
    "pprint(df['original_content'].iloc[7])"
   ]
  },
  {
   "cell_type": "code",
   "execution_count": 12,
   "metadata": {
    "pycharm": {
     "name": "#%%\n"
    }
   },
   "outputs": [
    {
     "ename": "AttributeError",
     "evalue": "module 'pyLDAvis' has no attribute 'gensim'",
     "output_type": "error",
     "traceback": [
      "\u001b[1;31m---------------------------------------------------------------------------\u001b[0m",
      "\u001b[1;31mAttributeError\u001b[0m                            Traceback (most recent call last)",
      "Cell \u001b[1;32mIn[12], line 6\u001b[0m\n\u001b[0;32m      1\u001b[0m \u001b[38;5;66;03m# requires installing pyldavis\u001b[39;00m\n\u001b[0;32m      2\u001b[0m \u001b[38;5;66;03m# requires pandas version to 1.5.1\u001b[39;00m\n\u001b[0;32m      4\u001b[0m \u001b[38;5;28;01mimport\u001b[39;00m \u001b[38;5;21;01mpyLDAvis\u001b[39;00m\n\u001b[1;32m----> 6\u001b[0m LDAvis_prepared \u001b[38;5;241m=\u001b[39m pyLDAvis\u001b[38;5;241m.\u001b[39mgensim\u001b[38;5;241m.\u001b[39mprepare(lda_model, bow, id2word)\n\u001b[0;32m      7\u001b[0m pyLDAvis\u001b[38;5;241m.\u001b[39msave_html(LDAvis_prepared, \u001b[38;5;124m'\u001b[39m\u001b[38;5;124m./LDA_results/ldavis_prepared_\u001b[39m\u001b[38;5;124m'\u001b[39m\u001b[38;5;241m+\u001b[39m \u001b[38;5;28mstr\u001b[39m(n_topics) \u001b[38;5;241m+\u001b[39m\u001b[38;5;124m'\u001b[39m\u001b[38;5;124mi3.html\u001b[39m\u001b[38;5;124m'\u001b[39m)\n",
      "\u001b[1;31mAttributeError\u001b[0m: module 'pyLDAvis' has no attribute 'gensim'"
     ]
    }
   ],
   "source": [
    "# requires installing pyldavis\n",
    "# requires pandas version to 1.5.1\n",
    "\n",
    "import pyLDAvis\n",
    "\n",
    "LDAvis_prepared = pyLDAvis.gensim.prepare(lda_model, bow, id2word)\n",
    "pyLDAvis.save_html(LDAvis_prepared, './LDA_results/ldavis_prepared_'+ str(n_topics) +'i3.html')"
   ]
  }
 ],
 "metadata": {
  "kernelspec": {
   "display_name": "base",
   "language": "python",
   "name": "python3"
  },
  "language_info": {
   "codemirror_mode": {
    "name": "ipython",
    "version": 3
   },
   "file_extension": ".py",
   "mimetype": "text/x-python",
   "name": "python",
   "nbconvert_exporter": "python",
   "pygments_lexer": "ipython3",
   "version": "3.11.4"
  }
 },
 "nbformat": 4,
 "nbformat_minor": 2
}
