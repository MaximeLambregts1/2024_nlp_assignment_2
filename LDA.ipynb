{
 "cells": [
  {
   "cell_type": "code",
   "execution_count": 1,
   "metadata": {
    "pycharm": {
     "name": "#%%\n"
    }
   },
   "outputs": [],
   "source": [
    "# import modules\n",
    "import pandas as pd\n",
    "import gensim\n",
    "from ast import literal_eval\n",
    "\n",
    "# import data\n",
    "df = pd.read_csv('data/nvidia_articles2.csv', converters={'content': literal_eval})"
   ]
  },
  {
   "cell_type": "code",
   "execution_count": 25,
   "metadata": {
    "pycharm": {
     "name": "#%%\n"
    }
   },
   "outputs": [],
   "source": [
    "# map words to integer ids\n",
    "id2word = gensim.corpora.Dictionary(df['content'])\n",
    "\n",
    "# create a bag of words representation of the data\n",
    "bow = [id2word.doc2bow(doc) for doc in df['content']]\n",
    "\n",
    "# number of topics\n",
    "n_topics = 3\n",
    "\n",
    "# Build LDA model\n",
    "lda_model = gensim.models.LdaMulticore(corpus=bow, id2word=id2word, num_topics=n_topics)"
   ]
  },
  {
   "cell_type": "code",
   "execution_count": 43,
   "metadata": {
    "pycharm": {
     "name": "#%%\n"
    }
   },
   "outputs": [],
   "source": [
    "# requires installing pyldavis\n",
    "# requires pandas version to 1.5.1\n",
    "\n",
    "import pyLDAvis\n",
    "\n",
    "LDAvis_prepared = pyLDAvis.gensim.prepare(lda_model, bow, id2word)\n",
    "pyLDAvis.save_html(LDAvis_prepared, './LDA_results/ldavis_prepared_'+ str(n_topics) +'.html')"
   ]
  }
 ],
 "metadata": {
  "kernelspec": {
   "display_name": "base",
   "language": "python",
   "name": "python3"
  },
  "language_info": {
   "codemirror_mode": {
    "name": "ipython",
    "version": 3
   },
   "file_extension": ".py",
   "mimetype": "text/x-python",
   "name": "python",
   "nbconvert_exporter": "python",
   "pygments_lexer": "ipython3",
   "version": "3.11.4"
  }
 },
 "nbformat": 4,
 "nbformat_minor": 2
}